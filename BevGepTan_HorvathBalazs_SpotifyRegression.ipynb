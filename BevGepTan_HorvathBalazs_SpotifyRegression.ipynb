{
  "nbformat": 4,
  "nbformat_minor": 0,
  "metadata": {
    "colab": {
      "provenance": [],
      "authorship_tag": "ABX9TyM+p/B5nMS6lziXM7FCWFvl",
      "include_colab_link": true
    },
    "kernelspec": {
      "name": "python3",
      "display_name": "Python 3"
    },
    "language_info": {
      "name": "python"
    },
    "gpuClass": "standard"
  },
  "cells": [
    {
      "cell_type": "markdown",
      "metadata": {
        "id": "view-in-github",
        "colab_type": "text"
      },
      "source": [
        "<a href=\"https://colab.research.google.com/github/Abyd0s/BevGepTan_Project_2022_OE/blob/main/BevGepTan_HorvathBalazs_SpotifyRegression.ipynb\" target=\"_parent\"><img src=\"https://colab.research.google.com/assets/colab-badge.svg\" alt=\"Open In Colab\"/></a>"
      ]
    },
    {
      "cell_type": "code",
      "source": [
        "import pandas as pd\n",
        "from sklearn.compose import *\n",
        "from sklearn.impute import *\n",
        "from sklearn.pipeline import Pipeline\n",
        "from sklearn.preprocessing import *\n",
        "from sklearn.ensemble import *\n",
        "import pickle"
      ],
      "metadata": {
        "id": "ucsBZPIIGVtj"
      },
      "execution_count": null,
      "outputs": []
    },
    {
      "cell_type": "code",
      "source": [
        "# Mindenek előtt fontos feltölteni a két .csv fájlt a ../data/alá"
      ],
      "metadata": {
        "id": "kj6Px3K0cQAA"
      },
      "execution_count": null,
      "outputs": []
    },
    {
      "cell_type": "code",
      "source": [
        "# .csv file beolvasása\n",
        "X = pd.read_csv('../data/SpotifyHits.csv')\n",
        "# Popularity oszlop átmásolva ebbe a fájlba, hogy a modell tanításnál meglegyen a két paraméter\n",
        "y = pd.read_csv('../data/Y_Popularity.csv')"
      ],
      "metadata": {
        "id": "8008Bqr90cVK"
      },
      "execution_count": null,
      "outputs": []
    },
    {
      "cell_type": "code",
      "source": [
        "# Sorok, oszlopok száma X - (Elvárt: 1994 sor, 14 oszlop)\n",
        "X.shape"
      ],
      "metadata": {
        "colab": {
          "base_uri": "https://localhost:8080/"
        },
        "id": "i3x6qpQJpUlL",
        "outputId": "0e554464-38bb-49b3-8b89-458ee3d892ee"
      },
      "execution_count": null,
      "outputs": [
        {
          "output_type": "execute_result",
          "data": {
            "text/plain": [
              "(1994, 14)"
            ]
          },
          "metadata": {},
          "execution_count": 342
        }
      ]
    },
    {
      "cell_type": "code",
      "source": [
        "# Sorok, oszlopok száma Y - (Elvárt: 1994 sor, 2 oszlop)\n",
        "y.shape"
      ],
      "metadata": {
        "colab": {
          "base_uri": "https://localhost:8080/"
        },
        "id": "bn9SRYGxS5tx",
        "outputId": "e431cff6-c755-462b-8081-f8887dc997ee"
      },
      "execution_count": null,
      "outputs": [
        {
          "output_type": "execute_result",
          "data": {
            "text/plain": [
              "(1994, 2)"
            ]
          },
          "metadata": {},
          "execution_count": 343
        }
      ]
    },
    {
      "cell_type": "code",
      "source": [
        "# Van-e null érték a DB-ben\n",
        "X.isnull().sum()"
      ],
      "metadata": {
        "colab": {
          "base_uri": "https://localhost:8080/"
        },
        "id": "3hZpNH2mpa5C",
        "outputId": "c3e92f37-7f6d-4c7a-acd7-95623a424d25"
      },
      "execution_count": null,
      "outputs": [
        {
          "output_type": "execute_result",
          "data": {
            "text/plain": [
              "Index           0\n",
              "Title           0\n",
              "Artist          0\n",
              "Genre           0\n",
              "Year            0\n",
              "BPM             0\n",
              "Energy          0\n",
              "Danceability    0\n",
              "Loudness        0\n",
              "Liveness        0\n",
              "Valence         0\n",
              "Length          0\n",
              "Acousticness    0\n",
              "Speechiness     0\n",
              "dtype: int64"
            ]
          },
          "metadata": {},
          "execution_count": 344
        }
      ]
    },
    {
      "cell_type": "code",
      "source": [
        "# Adattípusok ellenőrzése\n",
        "X.dtypes"
      ],
      "metadata": {
        "colab": {
          "base_uri": "https://localhost:8080/"
        },
        "id": "pP1zGn5MqE_7",
        "outputId": "9cda083e-6270-4404-df54-6cf16116afff"
      },
      "execution_count": null,
      "outputs": [
        {
          "output_type": "execute_result",
          "data": {
            "text/plain": [
              "Index            int64\n",
              "Title           object\n",
              "Artist          object\n",
              "Genre           object\n",
              "Year             int64\n",
              "BPM              int64\n",
              "Energy           int64\n",
              "Danceability     int64\n",
              "Loudness         int64\n",
              "Liveness         int64\n",
              "Valence          int64\n",
              "Length           int64\n",
              "Acousticness     int64\n",
              "Speechiness      int64\n",
              "dtype: object"
            ]
          },
          "metadata": {},
          "execution_count": 345
        }
      ]
    },
    {
      "cell_type": "code",
      "source": [
        "# Beolvasás sikerességének ellenőrzése\n",
        "X.head()"
      ],
      "metadata": {
        "colab": {
          "base_uri": "https://localhost:8080/",
          "height": 206
        },
        "id": "pPoUiyg42h7N",
        "outputId": "d45d6f4c-08aa-4d15-f912-3d73178407ec"
      },
      "execution_count": null,
      "outputs": [
        {
          "output_type": "execute_result",
          "data": {
            "text/plain": [
              "   Index                   Title             Artist                Genre  \\\n",
              "0      1                 Sunrise        Norah Jones      adult standards   \n",
              "1      2             Black Night        Deep Purple           album rock   \n",
              "2      3          Clint Eastwood           Gorillaz  alternative hip hop   \n",
              "3      4           The Pretender       Foo Fighters    alternative metal   \n",
              "4      5  Waitin' On A Sunny Day  Bruce Springsteen         classic rock   \n",
              "\n",
              "   Year  BPM  Energy  Danceability  Loudness  Liveness  Valence  Length  \\\n",
              "0  2004  157      30            53       -14        11       68     201   \n",
              "1  2000  135      79            50       -11        17       81     207   \n",
              "2  2001  168      69            66        -9         7       52     341   \n",
              "3  2007  173      96            43        -4         3       37     269   \n",
              "4  2002  106      82            58        -5        10       87     256   \n",
              "\n",
              "   Acousticness  Speechiness  \n",
              "0            94            3  \n",
              "1            17            7  \n",
              "2             2           17  \n",
              "3             0            4  \n",
              "4             1            3  "
            ],
            "text/html": [
              "\n",
              "  <div id=\"df-1cc6bd0d-0590-4371-b081-76a1fd0fb73a\">\n",
              "    <div class=\"colab-df-container\">\n",
              "      <div>\n",
              "<style scoped>\n",
              "    .dataframe tbody tr th:only-of-type {\n",
              "        vertical-align: middle;\n",
              "    }\n",
              "\n",
              "    .dataframe tbody tr th {\n",
              "        vertical-align: top;\n",
              "    }\n",
              "\n",
              "    .dataframe thead th {\n",
              "        text-align: right;\n",
              "    }\n",
              "</style>\n",
              "<table border=\"1\" class=\"dataframe\">\n",
              "  <thead>\n",
              "    <tr style=\"text-align: right;\">\n",
              "      <th></th>\n",
              "      <th>Index</th>\n",
              "      <th>Title</th>\n",
              "      <th>Artist</th>\n",
              "      <th>Genre</th>\n",
              "      <th>Year</th>\n",
              "      <th>BPM</th>\n",
              "      <th>Energy</th>\n",
              "      <th>Danceability</th>\n",
              "      <th>Loudness</th>\n",
              "      <th>Liveness</th>\n",
              "      <th>Valence</th>\n",
              "      <th>Length</th>\n",
              "      <th>Acousticness</th>\n",
              "      <th>Speechiness</th>\n",
              "    </tr>\n",
              "  </thead>\n",
              "  <tbody>\n",
              "    <tr>\n",
              "      <th>0</th>\n",
              "      <td>1</td>\n",
              "      <td>Sunrise</td>\n",
              "      <td>Norah Jones</td>\n",
              "      <td>adult standards</td>\n",
              "      <td>2004</td>\n",
              "      <td>157</td>\n",
              "      <td>30</td>\n",
              "      <td>53</td>\n",
              "      <td>-14</td>\n",
              "      <td>11</td>\n",
              "      <td>68</td>\n",
              "      <td>201</td>\n",
              "      <td>94</td>\n",
              "      <td>3</td>\n",
              "    </tr>\n",
              "    <tr>\n",
              "      <th>1</th>\n",
              "      <td>2</td>\n",
              "      <td>Black Night</td>\n",
              "      <td>Deep Purple</td>\n",
              "      <td>album rock</td>\n",
              "      <td>2000</td>\n",
              "      <td>135</td>\n",
              "      <td>79</td>\n",
              "      <td>50</td>\n",
              "      <td>-11</td>\n",
              "      <td>17</td>\n",
              "      <td>81</td>\n",
              "      <td>207</td>\n",
              "      <td>17</td>\n",
              "      <td>7</td>\n",
              "    </tr>\n",
              "    <tr>\n",
              "      <th>2</th>\n",
              "      <td>3</td>\n",
              "      <td>Clint Eastwood</td>\n",
              "      <td>Gorillaz</td>\n",
              "      <td>alternative hip hop</td>\n",
              "      <td>2001</td>\n",
              "      <td>168</td>\n",
              "      <td>69</td>\n",
              "      <td>66</td>\n",
              "      <td>-9</td>\n",
              "      <td>7</td>\n",
              "      <td>52</td>\n",
              "      <td>341</td>\n",
              "      <td>2</td>\n",
              "      <td>17</td>\n",
              "    </tr>\n",
              "    <tr>\n",
              "      <th>3</th>\n",
              "      <td>4</td>\n",
              "      <td>The Pretender</td>\n",
              "      <td>Foo Fighters</td>\n",
              "      <td>alternative metal</td>\n",
              "      <td>2007</td>\n",
              "      <td>173</td>\n",
              "      <td>96</td>\n",
              "      <td>43</td>\n",
              "      <td>-4</td>\n",
              "      <td>3</td>\n",
              "      <td>37</td>\n",
              "      <td>269</td>\n",
              "      <td>0</td>\n",
              "      <td>4</td>\n",
              "    </tr>\n",
              "    <tr>\n",
              "      <th>4</th>\n",
              "      <td>5</td>\n",
              "      <td>Waitin' On A Sunny Day</td>\n",
              "      <td>Bruce Springsteen</td>\n",
              "      <td>classic rock</td>\n",
              "      <td>2002</td>\n",
              "      <td>106</td>\n",
              "      <td>82</td>\n",
              "      <td>58</td>\n",
              "      <td>-5</td>\n",
              "      <td>10</td>\n",
              "      <td>87</td>\n",
              "      <td>256</td>\n",
              "      <td>1</td>\n",
              "      <td>3</td>\n",
              "    </tr>\n",
              "  </tbody>\n",
              "</table>\n",
              "</div>\n",
              "      <button class=\"colab-df-convert\" onclick=\"convertToInteractive('df-1cc6bd0d-0590-4371-b081-76a1fd0fb73a')\"\n",
              "              title=\"Convert this dataframe to an interactive table.\"\n",
              "              style=\"display:none;\">\n",
              "        \n",
              "  <svg xmlns=\"http://www.w3.org/2000/svg\" height=\"24px\"viewBox=\"0 0 24 24\"\n",
              "       width=\"24px\">\n",
              "    <path d=\"M0 0h24v24H0V0z\" fill=\"none\"/>\n",
              "    <path d=\"M18.56 5.44l.94 2.06.94-2.06 2.06-.94-2.06-.94-.94-2.06-.94 2.06-2.06.94zm-11 1L8.5 8.5l.94-2.06 2.06-.94-2.06-.94L8.5 2.5l-.94 2.06-2.06.94zm10 10l.94 2.06.94-2.06 2.06-.94-2.06-.94-.94-2.06-.94 2.06-2.06.94z\"/><path d=\"M17.41 7.96l-1.37-1.37c-.4-.4-.92-.59-1.43-.59-.52 0-1.04.2-1.43.59L10.3 9.45l-7.72 7.72c-.78.78-.78 2.05 0 2.83L4 21.41c.39.39.9.59 1.41.59.51 0 1.02-.2 1.41-.59l7.78-7.78 2.81-2.81c.8-.78.8-2.07 0-2.86zM5.41 20L4 18.59l7.72-7.72 1.47 1.35L5.41 20z\"/>\n",
              "  </svg>\n",
              "      </button>\n",
              "      \n",
              "  <style>\n",
              "    .colab-df-container {\n",
              "      display:flex;\n",
              "      flex-wrap:wrap;\n",
              "      gap: 12px;\n",
              "    }\n",
              "\n",
              "    .colab-df-convert {\n",
              "      background-color: #E8F0FE;\n",
              "      border: none;\n",
              "      border-radius: 50%;\n",
              "      cursor: pointer;\n",
              "      display: none;\n",
              "      fill: #1967D2;\n",
              "      height: 32px;\n",
              "      padding: 0 0 0 0;\n",
              "      width: 32px;\n",
              "    }\n",
              "\n",
              "    .colab-df-convert:hover {\n",
              "      background-color: #E2EBFA;\n",
              "      box-shadow: 0px 1px 2px rgba(60, 64, 67, 0.3), 0px 1px 3px 1px rgba(60, 64, 67, 0.15);\n",
              "      fill: #174EA6;\n",
              "    }\n",
              "\n",
              "    [theme=dark] .colab-df-convert {\n",
              "      background-color: #3B4455;\n",
              "      fill: #D2E3FC;\n",
              "    }\n",
              "\n",
              "    [theme=dark] .colab-df-convert:hover {\n",
              "      background-color: #434B5C;\n",
              "      box-shadow: 0px 1px 3px 1px rgba(0, 0, 0, 0.15);\n",
              "      filter: drop-shadow(0px 1px 2px rgba(0, 0, 0, 0.3));\n",
              "      fill: #FFFFFF;\n",
              "    }\n",
              "  </style>\n",
              "\n",
              "      <script>\n",
              "        const buttonEl =\n",
              "          document.querySelector('#df-1cc6bd0d-0590-4371-b081-76a1fd0fb73a button.colab-df-convert');\n",
              "        buttonEl.style.display =\n",
              "          google.colab.kernel.accessAllowed ? 'block' : 'none';\n",
              "\n",
              "        async function convertToInteractive(key) {\n",
              "          const element = document.querySelector('#df-1cc6bd0d-0590-4371-b081-76a1fd0fb73a');\n",
              "          const dataTable =\n",
              "            await google.colab.kernel.invokeFunction('convertToInteractive',\n",
              "                                                     [key], {});\n",
              "          if (!dataTable) return;\n",
              "\n",
              "          const docLinkHtml = 'Like what you see? Visit the ' +\n",
              "            '<a target=\"_blank\" href=https://colab.research.google.com/notebooks/data_table.ipynb>data table notebook</a>'\n",
              "            + ' to learn more about interactive tables.';\n",
              "          element.innerHTML = '';\n",
              "          dataTable['output_type'] = 'display_data';\n",
              "          await google.colab.output.renderOutput(dataTable, element);\n",
              "          const docLink = document.createElement('div');\n",
              "          docLink.innerHTML = docLinkHtml;\n",
              "          element.appendChild(docLink);\n",
              "        }\n",
              "      </script>\n",
              "    </div>\n",
              "  </div>\n",
              "  "
            ]
          },
          "metadata": {},
          "execution_count": 346
        }
      ]
    },
    {
      "cell_type": "code",
      "source": [
        "# Felesleges oszlopok törlése (főleg szöveges mezők törlése, illetve az Index oszlop felesleges)\n",
        "X = X.drop(columns=['Index', 'Genre', 'Artist', 'Title'])\n",
        "y = y.drop(columns=['Index'])\n",
        "y = y.values.ravel()"
      ],
      "metadata": {
        "id": "JiyaXYf9xPn0"
      },
      "execution_count": null,
      "outputs": []
    },
    {
      "cell_type": "code",
      "source": [
        "# Leíró statisztika létrehozása (törlés utáni állapot)\n",
        "X.describe()"
      ],
      "metadata": {
        "colab": {
          "base_uri": "https://localhost:8080/",
          "height": 300
        },
        "id": "tUfrLCdPlTHk",
        "outputId": "21cb56ec-ebda-41b2-ccd7-28e121bd82dd"
      },
      "execution_count": null,
      "outputs": [
        {
          "output_type": "execute_result",
          "data": {
            "text/plain": [
              "              Year          BPM       Energy  Danceability     Loudness  \\\n",
              "count  1994.000000  1994.000000  1994.000000   1994.000000  1994.000000   \n",
              "mean   1992.992979   120.215647    59.679539     53.238215    -9.008526   \n",
              "std      16.116048    28.028096    22.154322     15.351507     3.647876   \n",
              "min    1956.000000    37.000000     3.000000     10.000000   -27.000000   \n",
              "25%    1979.000000    99.000000    42.000000     43.000000   -11.000000   \n",
              "50%    1993.000000   119.000000    61.000000     53.000000    -8.000000   \n",
              "75%    2007.000000   136.000000    78.000000     64.000000    -6.000000   \n",
              "max    2019.000000   206.000000   100.000000     96.000000    -2.000000   \n",
              "\n",
              "          Liveness      Valence       Length  Acousticness  Speechiness  \n",
              "count  1994.000000  1994.000000  1994.000000   1994.000000  1994.000000  \n",
              "mean     19.012036    49.408726   262.443330     28.858074     4.994985  \n",
              "std      16.727378    24.858212    93.604387     29.011986     4.401566  \n",
              "min       2.000000     3.000000    93.000000      0.000000     2.000000  \n",
              "25%       9.000000    29.000000   212.000000      3.000000     3.000000  \n",
              "50%      12.000000    47.000000   245.000000     18.000000     4.000000  \n",
              "75%      23.000000    69.750000   289.000000     50.000000     5.000000  \n",
              "max      99.000000    99.000000  1412.000000     99.000000    55.000000  "
            ],
            "text/html": [
              "\n",
              "  <div id=\"df-1420a5f1-18a7-46cd-bf73-ed9dcfbe44f0\">\n",
              "    <div class=\"colab-df-container\">\n",
              "      <div>\n",
              "<style scoped>\n",
              "    .dataframe tbody tr th:only-of-type {\n",
              "        vertical-align: middle;\n",
              "    }\n",
              "\n",
              "    .dataframe tbody tr th {\n",
              "        vertical-align: top;\n",
              "    }\n",
              "\n",
              "    .dataframe thead th {\n",
              "        text-align: right;\n",
              "    }\n",
              "</style>\n",
              "<table border=\"1\" class=\"dataframe\">\n",
              "  <thead>\n",
              "    <tr style=\"text-align: right;\">\n",
              "      <th></th>\n",
              "      <th>Year</th>\n",
              "      <th>BPM</th>\n",
              "      <th>Energy</th>\n",
              "      <th>Danceability</th>\n",
              "      <th>Loudness</th>\n",
              "      <th>Liveness</th>\n",
              "      <th>Valence</th>\n",
              "      <th>Length</th>\n",
              "      <th>Acousticness</th>\n",
              "      <th>Speechiness</th>\n",
              "    </tr>\n",
              "  </thead>\n",
              "  <tbody>\n",
              "    <tr>\n",
              "      <th>count</th>\n",
              "      <td>1994.000000</td>\n",
              "      <td>1994.000000</td>\n",
              "      <td>1994.000000</td>\n",
              "      <td>1994.000000</td>\n",
              "      <td>1994.000000</td>\n",
              "      <td>1994.000000</td>\n",
              "      <td>1994.000000</td>\n",
              "      <td>1994.000000</td>\n",
              "      <td>1994.000000</td>\n",
              "      <td>1994.000000</td>\n",
              "    </tr>\n",
              "    <tr>\n",
              "      <th>mean</th>\n",
              "      <td>1992.992979</td>\n",
              "      <td>120.215647</td>\n",
              "      <td>59.679539</td>\n",
              "      <td>53.238215</td>\n",
              "      <td>-9.008526</td>\n",
              "      <td>19.012036</td>\n",
              "      <td>49.408726</td>\n",
              "      <td>262.443330</td>\n",
              "      <td>28.858074</td>\n",
              "      <td>4.994985</td>\n",
              "    </tr>\n",
              "    <tr>\n",
              "      <th>std</th>\n",
              "      <td>16.116048</td>\n",
              "      <td>28.028096</td>\n",
              "      <td>22.154322</td>\n",
              "      <td>15.351507</td>\n",
              "      <td>3.647876</td>\n",
              "      <td>16.727378</td>\n",
              "      <td>24.858212</td>\n",
              "      <td>93.604387</td>\n",
              "      <td>29.011986</td>\n",
              "      <td>4.401566</td>\n",
              "    </tr>\n",
              "    <tr>\n",
              "      <th>min</th>\n",
              "      <td>1956.000000</td>\n",
              "      <td>37.000000</td>\n",
              "      <td>3.000000</td>\n",
              "      <td>10.000000</td>\n",
              "      <td>-27.000000</td>\n",
              "      <td>2.000000</td>\n",
              "      <td>3.000000</td>\n",
              "      <td>93.000000</td>\n",
              "      <td>0.000000</td>\n",
              "      <td>2.000000</td>\n",
              "    </tr>\n",
              "    <tr>\n",
              "      <th>25%</th>\n",
              "      <td>1979.000000</td>\n",
              "      <td>99.000000</td>\n",
              "      <td>42.000000</td>\n",
              "      <td>43.000000</td>\n",
              "      <td>-11.000000</td>\n",
              "      <td>9.000000</td>\n",
              "      <td>29.000000</td>\n",
              "      <td>212.000000</td>\n",
              "      <td>3.000000</td>\n",
              "      <td>3.000000</td>\n",
              "    </tr>\n",
              "    <tr>\n",
              "      <th>50%</th>\n",
              "      <td>1993.000000</td>\n",
              "      <td>119.000000</td>\n",
              "      <td>61.000000</td>\n",
              "      <td>53.000000</td>\n",
              "      <td>-8.000000</td>\n",
              "      <td>12.000000</td>\n",
              "      <td>47.000000</td>\n",
              "      <td>245.000000</td>\n",
              "      <td>18.000000</td>\n",
              "      <td>4.000000</td>\n",
              "    </tr>\n",
              "    <tr>\n",
              "      <th>75%</th>\n",
              "      <td>2007.000000</td>\n",
              "      <td>136.000000</td>\n",
              "      <td>78.000000</td>\n",
              "      <td>64.000000</td>\n",
              "      <td>-6.000000</td>\n",
              "      <td>23.000000</td>\n",
              "      <td>69.750000</td>\n",
              "      <td>289.000000</td>\n",
              "      <td>50.000000</td>\n",
              "      <td>5.000000</td>\n",
              "    </tr>\n",
              "    <tr>\n",
              "      <th>max</th>\n",
              "      <td>2019.000000</td>\n",
              "      <td>206.000000</td>\n",
              "      <td>100.000000</td>\n",
              "      <td>96.000000</td>\n",
              "      <td>-2.000000</td>\n",
              "      <td>99.000000</td>\n",
              "      <td>99.000000</td>\n",
              "      <td>1412.000000</td>\n",
              "      <td>99.000000</td>\n",
              "      <td>55.000000</td>\n",
              "    </tr>\n",
              "  </tbody>\n",
              "</table>\n",
              "</div>\n",
              "      <button class=\"colab-df-convert\" onclick=\"convertToInteractive('df-1420a5f1-18a7-46cd-bf73-ed9dcfbe44f0')\"\n",
              "              title=\"Convert this dataframe to an interactive table.\"\n",
              "              style=\"display:none;\">\n",
              "        \n",
              "  <svg xmlns=\"http://www.w3.org/2000/svg\" height=\"24px\"viewBox=\"0 0 24 24\"\n",
              "       width=\"24px\">\n",
              "    <path d=\"M0 0h24v24H0V0z\" fill=\"none\"/>\n",
              "    <path d=\"M18.56 5.44l.94 2.06.94-2.06 2.06-.94-2.06-.94-.94-2.06-.94 2.06-2.06.94zm-11 1L8.5 8.5l.94-2.06 2.06-.94-2.06-.94L8.5 2.5l-.94 2.06-2.06.94zm10 10l.94 2.06.94-2.06 2.06-.94-2.06-.94-.94-2.06-.94 2.06-2.06.94z\"/><path d=\"M17.41 7.96l-1.37-1.37c-.4-.4-.92-.59-1.43-.59-.52 0-1.04.2-1.43.59L10.3 9.45l-7.72 7.72c-.78.78-.78 2.05 0 2.83L4 21.41c.39.39.9.59 1.41.59.51 0 1.02-.2 1.41-.59l7.78-7.78 2.81-2.81c.8-.78.8-2.07 0-2.86zM5.41 20L4 18.59l7.72-7.72 1.47 1.35L5.41 20z\"/>\n",
              "  </svg>\n",
              "      </button>\n",
              "      \n",
              "  <style>\n",
              "    .colab-df-container {\n",
              "      display:flex;\n",
              "      flex-wrap:wrap;\n",
              "      gap: 12px;\n",
              "    }\n",
              "\n",
              "    .colab-df-convert {\n",
              "      background-color: #E8F0FE;\n",
              "      border: none;\n",
              "      border-radius: 50%;\n",
              "      cursor: pointer;\n",
              "      display: none;\n",
              "      fill: #1967D2;\n",
              "      height: 32px;\n",
              "      padding: 0 0 0 0;\n",
              "      width: 32px;\n",
              "    }\n",
              "\n",
              "    .colab-df-convert:hover {\n",
              "      background-color: #E2EBFA;\n",
              "      box-shadow: 0px 1px 2px rgba(60, 64, 67, 0.3), 0px 1px 3px 1px rgba(60, 64, 67, 0.15);\n",
              "      fill: #174EA6;\n",
              "    }\n",
              "\n",
              "    [theme=dark] .colab-df-convert {\n",
              "      background-color: #3B4455;\n",
              "      fill: #D2E3FC;\n",
              "    }\n",
              "\n",
              "    [theme=dark] .colab-df-convert:hover {\n",
              "      background-color: #434B5C;\n",
              "      box-shadow: 0px 1px 3px 1px rgba(0, 0, 0, 0.15);\n",
              "      filter: drop-shadow(0px 1px 2px rgba(0, 0, 0, 0.3));\n",
              "      fill: #FFFFFF;\n",
              "    }\n",
              "  </style>\n",
              "\n",
              "      <script>\n",
              "        const buttonEl =\n",
              "          document.querySelector('#df-1420a5f1-18a7-46cd-bf73-ed9dcfbe44f0 button.colab-df-convert');\n",
              "        buttonEl.style.display =\n",
              "          google.colab.kernel.accessAllowed ? 'block' : 'none';\n",
              "\n",
              "        async function convertToInteractive(key) {\n",
              "          const element = document.querySelector('#df-1420a5f1-18a7-46cd-bf73-ed9dcfbe44f0');\n",
              "          const dataTable =\n",
              "            await google.colab.kernel.invokeFunction('convertToInteractive',\n",
              "                                                     [key], {});\n",
              "          if (!dataTable) return;\n",
              "\n",
              "          const docLinkHtml = 'Like what you see? Visit the ' +\n",
              "            '<a target=\"_blank\" href=https://colab.research.google.com/notebooks/data_table.ipynb>data table notebook</a>'\n",
              "            + ' to learn more about interactive tables.';\n",
              "          element.innerHTML = '';\n",
              "          dataTable['output_type'] = 'display_data';\n",
              "          await google.colab.output.renderOutput(dataTable, element);\n",
              "          const docLink = document.createElement('div');\n",
              "          docLink.innerHTML = docLinkHtml;\n",
              "          element.appendChild(docLink);\n",
              "        }\n",
              "      </script>\n",
              "    </div>\n",
              "  </div>\n",
              "  "
            ]
          },
          "metadata": {},
          "execution_count": 348
        }
      ]
    },
    {
      "cell_type": "code",
      "source": [
        "# Listává konvertálás, obj használata helyett\n",
        "col = X.columns.tolist()"
      ],
      "metadata": {
        "id": "lz7SFx393Udi"
      },
      "execution_count": null,
      "outputs": []
    },
    {
      "cell_type": "code",
      "source": [
        "# Labelek átforgatása oszloppá (One hot Encode features)\n",
        "# pl van A, B meg C label, akkor lesz A, B, C oszlop és amelyikbe tartozik az a sor, oda rak 1-est máshol meg 0. És sokkal jobb az accuracy ettől, mintha egyoszlopos  labeled lenne, mert a scalelésnél jobban tudja használni\n",
        "onehot_cat = ['Speechiness', 'Energy', 'Danceability', 'Year']\n",
        "# https://scikit-learn.org/stable/modules/generated/sklearn.preprocessing.OneHotEncoder.html"
      ],
      "metadata": {
        "id": "9K5d_2HIVDO_"
      },
      "execution_count": null,
      "outputs": []
    },
    {
      "cell_type": "code",
      "source": [
        "con_cat = [i for i in col if i not in onehot_cat]"
      ],
      "metadata": {
        "id": "v-fhllDDVL0b"
      },
      "execution_count": null,
      "outputs": []
    },
    {
      "cell_type": "code",
      "source": [
        "cat_pipe = Pipeline([\n",
        "    ('ohe', OneHotEncoder(handle_unknown='ignore')),\n",
        "    ('imputer', SimpleImputer(strategy='most_frequent', add_indicator=True))\n",
        "])"
      ],
      "metadata": {
        "id": "M09oe4EWVNzK"
      },
      "execution_count": null,
      "outputs": []
    },
    {
      "cell_type": "code",
      "source": [
        "con_pipe = Pipeline([\n",
        "    ('SS', StandardScaler()),\n",
        "    ('KNN', KNNImputer(n_neighbors=5))\n",
        "])"
      ],
      "metadata": {
        "id": "gRM_-mqlVPMD"
      },
      "execution_count": null,
      "outputs": []
    },
    {
      "cell_type": "code",
      "source": [
        "preprocessor = ColumnTransformer([\n",
        "    ('categorical', cat_pipe, onehot_cat),\n",
        "    ('continuous', con_pipe, con_cat)\n",
        "])"
      ],
      "metadata": {
        "id": "7TDDMDaUVSbu"
      },
      "execution_count": null,
      "outputs": []
    },
    {
      "cell_type": "code",
      "source": [
        "model_final = BaggingRegressor(n_estimators=50, max_features=1.0, n_jobs=-1)\n",
        "model_final_pipe = Pipeline([('preprocessor', preprocessor),\n",
        "                             ('bag', TransformedTargetRegressor(regressor=model_final,\n",
        "                                                                transformer=QuantileTransformer(n_quantiles=300,\n",
        "                                                                                                output_distribution='normal')))])"
      ],
      "metadata": {
        "id": "8pE5DyqKVVPl"
      },
      "execution_count": null,
      "outputs": []
    },
    {
      "cell_type": "code",
      "source": [
        "# Modell \"fitelése\" - mennyire jól általánosítható azokra az adatokra, amelyek hasonlóak azokhoz, amelyen tanítjuk\n",
        "model_final_pipe.fit(X, y)"
      ],
      "metadata": {
        "colab": {
          "base_uri": "https://localhost:8080/",
          "height": 263
        },
        "id": "BQsNtKsnVXEa",
        "outputId": "38b44469-9f82-4c09-9d5b-83ecf2a9204b"
      },
      "execution_count": null,
      "outputs": [
        {
          "output_type": "execute_result",
          "data": {
            "text/plain": [
              "Pipeline(steps=[('preprocessor',\n",
              "                 ColumnTransformer(transformers=[('categorical',\n",
              "                                                  Pipeline(steps=[('ohe',\n",
              "                                                                   OneHotEncoder(handle_unknown='ignore')),\n",
              "                                                                  ('imputer',\n",
              "                                                                   SimpleImputer(add_indicator=True,\n",
              "                                                                                 strategy='most_frequent'))]),\n",
              "                                                  ['Speechiness', 'Energy',\n",
              "                                                   'Danceability', 'Year']),\n",
              "                                                 ('continuous',\n",
              "                                                  Pipeline(steps=[('SS',\n",
              "                                                                   StandardScaler()),\n",
              "                                                                  ('KNN',\n",
              "                                                                   KNNImputer())]),\n",
              "                                                  ['BPM', 'Loudness',\n",
              "                                                   'Liveness', 'Valence',\n",
              "                                                   'Length',\n",
              "                                                   'Acousticness'])])),\n",
              "                ('bag',\n",
              "                 TransformedTargetRegressor(regressor=BaggingRegressor(n_estimators=50,\n",
              "                                                                       n_jobs=-1),\n",
              "                                            transformer=QuantileTransformer(n_quantiles=300,\n",
              "                                                                            output_distribution='normal')))])"
            ],
            "text/html": [
              "<style>#sk-2a844b86-907d-4a49-a54e-b2473f86a015 {color: black;background-color: white;}#sk-2a844b86-907d-4a49-a54e-b2473f86a015 pre{padding: 0;}#sk-2a844b86-907d-4a49-a54e-b2473f86a015 div.sk-toggleable {background-color: white;}#sk-2a844b86-907d-4a49-a54e-b2473f86a015 label.sk-toggleable__label {cursor: pointer;display: block;width: 100%;margin-bottom: 0;padding: 0.3em;box-sizing: border-box;text-align: center;}#sk-2a844b86-907d-4a49-a54e-b2473f86a015 label.sk-toggleable__label-arrow:before {content: \"▸\";float: left;margin-right: 0.25em;color: #696969;}#sk-2a844b86-907d-4a49-a54e-b2473f86a015 label.sk-toggleable__label-arrow:hover:before {color: black;}#sk-2a844b86-907d-4a49-a54e-b2473f86a015 div.sk-estimator:hover label.sk-toggleable__label-arrow:before {color: black;}#sk-2a844b86-907d-4a49-a54e-b2473f86a015 div.sk-toggleable__content {max-height: 0;max-width: 0;overflow: hidden;text-align: left;background-color: #f0f8ff;}#sk-2a844b86-907d-4a49-a54e-b2473f86a015 div.sk-toggleable__content pre {margin: 0.2em;color: black;border-radius: 0.25em;background-color: #f0f8ff;}#sk-2a844b86-907d-4a49-a54e-b2473f86a015 input.sk-toggleable__control:checked~div.sk-toggleable__content {max-height: 200px;max-width: 100%;overflow: auto;}#sk-2a844b86-907d-4a49-a54e-b2473f86a015 input.sk-toggleable__control:checked~label.sk-toggleable__label-arrow:before {content: \"▾\";}#sk-2a844b86-907d-4a49-a54e-b2473f86a015 div.sk-estimator input.sk-toggleable__control:checked~label.sk-toggleable__label {background-color: #d4ebff;}#sk-2a844b86-907d-4a49-a54e-b2473f86a015 div.sk-label input.sk-toggleable__control:checked~label.sk-toggleable__label {background-color: #d4ebff;}#sk-2a844b86-907d-4a49-a54e-b2473f86a015 input.sk-hidden--visually {border: 0;clip: rect(1px 1px 1px 1px);clip: rect(1px, 1px, 1px, 1px);height: 1px;margin: -1px;overflow: hidden;padding: 0;position: absolute;width: 1px;}#sk-2a844b86-907d-4a49-a54e-b2473f86a015 div.sk-estimator {font-family: monospace;background-color: #f0f8ff;border: 1px dotted black;border-radius: 0.25em;box-sizing: border-box;margin-bottom: 0.5em;}#sk-2a844b86-907d-4a49-a54e-b2473f86a015 div.sk-estimator:hover {background-color: #d4ebff;}#sk-2a844b86-907d-4a49-a54e-b2473f86a015 div.sk-parallel-item::after {content: \"\";width: 100%;border-bottom: 1px solid gray;flex-grow: 1;}#sk-2a844b86-907d-4a49-a54e-b2473f86a015 div.sk-label:hover label.sk-toggleable__label {background-color: #d4ebff;}#sk-2a844b86-907d-4a49-a54e-b2473f86a015 div.sk-serial::before {content: \"\";position: absolute;border-left: 1px solid gray;box-sizing: border-box;top: 2em;bottom: 0;left: 50%;}#sk-2a844b86-907d-4a49-a54e-b2473f86a015 div.sk-serial {display: flex;flex-direction: column;align-items: center;background-color: white;padding-right: 0.2em;padding-left: 0.2em;}#sk-2a844b86-907d-4a49-a54e-b2473f86a015 div.sk-item {z-index: 1;}#sk-2a844b86-907d-4a49-a54e-b2473f86a015 div.sk-parallel {display: flex;align-items: stretch;justify-content: center;background-color: white;}#sk-2a844b86-907d-4a49-a54e-b2473f86a015 div.sk-parallel::before {content: \"\";position: absolute;border-left: 1px solid gray;box-sizing: border-box;top: 2em;bottom: 0;left: 50%;}#sk-2a844b86-907d-4a49-a54e-b2473f86a015 div.sk-parallel-item {display: flex;flex-direction: column;position: relative;background-color: white;}#sk-2a844b86-907d-4a49-a54e-b2473f86a015 div.sk-parallel-item:first-child::after {align-self: flex-end;width: 50%;}#sk-2a844b86-907d-4a49-a54e-b2473f86a015 div.sk-parallel-item:last-child::after {align-self: flex-start;width: 50%;}#sk-2a844b86-907d-4a49-a54e-b2473f86a015 div.sk-parallel-item:only-child::after {width: 0;}#sk-2a844b86-907d-4a49-a54e-b2473f86a015 div.sk-dashed-wrapped {border: 1px dashed gray;margin: 0 0.4em 0.5em 0.4em;box-sizing: border-box;padding-bottom: 0.4em;background-color: white;position: relative;}#sk-2a844b86-907d-4a49-a54e-b2473f86a015 div.sk-label label {font-family: monospace;font-weight: bold;background-color: white;display: inline-block;line-height: 1.2em;}#sk-2a844b86-907d-4a49-a54e-b2473f86a015 div.sk-label-container {position: relative;z-index: 2;text-align: center;}#sk-2a844b86-907d-4a49-a54e-b2473f86a015 div.sk-container {/* jupyter's `normalize.less` sets `[hidden] { display: none; }` but bootstrap.min.css set `[hidden] { display: none !important; }` so we also need the `!important` here to be able to override the default hidden behavior on the sphinx rendered scikit-learn.org. See: https://github.com/scikit-learn/scikit-learn/issues/21755 */display: inline-block !important;position: relative;}#sk-2a844b86-907d-4a49-a54e-b2473f86a015 div.sk-text-repr-fallback {display: none;}</style><div id=\"sk-2a844b86-907d-4a49-a54e-b2473f86a015\" class=\"sk-top-container\"><div class=\"sk-text-repr-fallback\"><pre>Pipeline(steps=[(&#x27;preprocessor&#x27;,\n",
              "                 ColumnTransformer(transformers=[(&#x27;categorical&#x27;,\n",
              "                                                  Pipeline(steps=[(&#x27;ohe&#x27;,\n",
              "                                                                   OneHotEncoder(handle_unknown=&#x27;ignore&#x27;)),\n",
              "                                                                  (&#x27;imputer&#x27;,\n",
              "                                                                   SimpleImputer(add_indicator=True,\n",
              "                                                                                 strategy=&#x27;most_frequent&#x27;))]),\n",
              "                                                  [&#x27;Speechiness&#x27;, &#x27;Energy&#x27;,\n",
              "                                                   &#x27;Danceability&#x27;, &#x27;Year&#x27;]),\n",
              "                                                 (&#x27;continuous&#x27;,\n",
              "                                                  Pipeline(steps=[(&#x27;SS&#x27;,\n",
              "                                                                   StandardScaler()),\n",
              "                                                                  (&#x27;KNN&#x27;,\n",
              "                                                                   KNNImputer())]),\n",
              "                                                  [&#x27;BPM&#x27;, &#x27;Loudness&#x27;,\n",
              "                                                   &#x27;Liveness&#x27;, &#x27;Valence&#x27;,\n",
              "                                                   &#x27;Length&#x27;,\n",
              "                                                   &#x27;Acousticness&#x27;])])),\n",
              "                (&#x27;bag&#x27;,\n",
              "                 TransformedTargetRegressor(regressor=BaggingRegressor(n_estimators=50,\n",
              "                                                                       n_jobs=-1),\n",
              "                                            transformer=QuantileTransformer(n_quantiles=300,\n",
              "                                                                            output_distribution=&#x27;normal&#x27;)))])</pre><b>Please rerun this cell to show the HTML repr or trust the notebook.</b></div><div class=\"sk-container\" hidden><div class=\"sk-item sk-dashed-wrapped\"><div class=\"sk-label-container\"><div class=\"sk-label sk-toggleable\"><input class=\"sk-toggleable__control sk-hidden--visually\" id=\"57037f83-5d81-45ac-8e55-6c9ed2a4e29b\" type=\"checkbox\" ><label for=\"57037f83-5d81-45ac-8e55-6c9ed2a4e29b\" class=\"sk-toggleable__label sk-toggleable__label-arrow\">Pipeline</label><div class=\"sk-toggleable__content\"><pre>Pipeline(steps=[(&#x27;preprocessor&#x27;,\n",
              "                 ColumnTransformer(transformers=[(&#x27;categorical&#x27;,\n",
              "                                                  Pipeline(steps=[(&#x27;ohe&#x27;,\n",
              "                                                                   OneHotEncoder(handle_unknown=&#x27;ignore&#x27;)),\n",
              "                                                                  (&#x27;imputer&#x27;,\n",
              "                                                                   SimpleImputer(add_indicator=True,\n",
              "                                                                                 strategy=&#x27;most_frequent&#x27;))]),\n",
              "                                                  [&#x27;Speechiness&#x27;, &#x27;Energy&#x27;,\n",
              "                                                   &#x27;Danceability&#x27;, &#x27;Year&#x27;]),\n",
              "                                                 (&#x27;continuous&#x27;,\n",
              "                                                  Pipeline(steps=[(&#x27;SS&#x27;,\n",
              "                                                                   StandardScaler()),\n",
              "                                                                  (&#x27;KNN&#x27;,\n",
              "                                                                   KNNImputer())]),\n",
              "                                                  [&#x27;BPM&#x27;, &#x27;Loudness&#x27;,\n",
              "                                                   &#x27;Liveness&#x27;, &#x27;Valence&#x27;,\n",
              "                                                   &#x27;Length&#x27;,\n",
              "                                                   &#x27;Acousticness&#x27;])])),\n",
              "                (&#x27;bag&#x27;,\n",
              "                 TransformedTargetRegressor(regressor=BaggingRegressor(n_estimators=50,\n",
              "                                                                       n_jobs=-1),\n",
              "                                            transformer=QuantileTransformer(n_quantiles=300,\n",
              "                                                                            output_distribution=&#x27;normal&#x27;)))])</pre></div></div></div><div class=\"sk-serial\"><div class=\"sk-item sk-dashed-wrapped\"><div class=\"sk-label-container\"><div class=\"sk-label sk-toggleable\"><input class=\"sk-toggleable__control sk-hidden--visually\" id=\"84df637a-2477-41c6-907c-35ab4a8280a3\" type=\"checkbox\" ><label for=\"84df637a-2477-41c6-907c-35ab4a8280a3\" class=\"sk-toggleable__label sk-toggleable__label-arrow\">preprocessor: ColumnTransformer</label><div class=\"sk-toggleable__content\"><pre>ColumnTransformer(transformers=[(&#x27;categorical&#x27;,\n",
              "                                 Pipeline(steps=[(&#x27;ohe&#x27;,\n",
              "                                                  OneHotEncoder(handle_unknown=&#x27;ignore&#x27;)),\n",
              "                                                 (&#x27;imputer&#x27;,\n",
              "                                                  SimpleImputer(add_indicator=True,\n",
              "                                                                strategy=&#x27;most_frequent&#x27;))]),\n",
              "                                 [&#x27;Speechiness&#x27;, &#x27;Energy&#x27;, &#x27;Danceability&#x27;,\n",
              "                                  &#x27;Year&#x27;]),\n",
              "                                (&#x27;continuous&#x27;,\n",
              "                                 Pipeline(steps=[(&#x27;SS&#x27;, StandardScaler()),\n",
              "                                                 (&#x27;KNN&#x27;, KNNImputer())]),\n",
              "                                 [&#x27;BPM&#x27;, &#x27;Loudness&#x27;, &#x27;Liveness&#x27;, &#x27;Valence&#x27;,\n",
              "                                  &#x27;Length&#x27;, &#x27;Acousticness&#x27;])])</pre></div></div></div><div class=\"sk-parallel\"><div class=\"sk-parallel-item\"><div class=\"sk-item\"><div class=\"sk-label-container\"><div class=\"sk-label sk-toggleable\"><input class=\"sk-toggleable__control sk-hidden--visually\" id=\"9a96e5fa-cfe9-4496-8310-5d606d24b129\" type=\"checkbox\" ><label for=\"9a96e5fa-cfe9-4496-8310-5d606d24b129\" class=\"sk-toggleable__label sk-toggleable__label-arrow\">categorical</label><div class=\"sk-toggleable__content\"><pre>[&#x27;Speechiness&#x27;, &#x27;Energy&#x27;, &#x27;Danceability&#x27;, &#x27;Year&#x27;]</pre></div></div></div><div class=\"sk-serial\"><div class=\"sk-item\"><div class=\"sk-serial\"><div class=\"sk-item\"><div class=\"sk-estimator sk-toggleable\"><input class=\"sk-toggleable__control sk-hidden--visually\" id=\"46585471-8ad1-460d-99b7-2781213620db\" type=\"checkbox\" ><label for=\"46585471-8ad1-460d-99b7-2781213620db\" class=\"sk-toggleable__label sk-toggleable__label-arrow\">OneHotEncoder</label><div class=\"sk-toggleable__content\"><pre>OneHotEncoder(handle_unknown=&#x27;ignore&#x27;)</pre></div></div></div><div class=\"sk-item\"><div class=\"sk-estimator sk-toggleable\"><input class=\"sk-toggleable__control sk-hidden--visually\" id=\"f1286241-8cba-4752-b740-eb56ae4d57db\" type=\"checkbox\" ><label for=\"f1286241-8cba-4752-b740-eb56ae4d57db\" class=\"sk-toggleable__label sk-toggleable__label-arrow\">SimpleImputer</label><div class=\"sk-toggleable__content\"><pre>SimpleImputer(add_indicator=True, strategy=&#x27;most_frequent&#x27;)</pre></div></div></div></div></div></div></div></div><div class=\"sk-parallel-item\"><div class=\"sk-item\"><div class=\"sk-label-container\"><div class=\"sk-label sk-toggleable\"><input class=\"sk-toggleable__control sk-hidden--visually\" id=\"831c7cb5-0b86-46e8-afb9-d751b9332ea9\" type=\"checkbox\" ><label for=\"831c7cb5-0b86-46e8-afb9-d751b9332ea9\" class=\"sk-toggleable__label sk-toggleable__label-arrow\">continuous</label><div class=\"sk-toggleable__content\"><pre>[&#x27;BPM&#x27;, &#x27;Loudness&#x27;, &#x27;Liveness&#x27;, &#x27;Valence&#x27;, &#x27;Length&#x27;, &#x27;Acousticness&#x27;]</pre></div></div></div><div class=\"sk-serial\"><div class=\"sk-item\"><div class=\"sk-serial\"><div class=\"sk-item\"><div class=\"sk-estimator sk-toggleable\"><input class=\"sk-toggleable__control sk-hidden--visually\" id=\"2e1b0fe1-fd39-46ee-adc6-c6acded6aa4b\" type=\"checkbox\" ><label for=\"2e1b0fe1-fd39-46ee-adc6-c6acded6aa4b\" class=\"sk-toggleable__label sk-toggleable__label-arrow\">StandardScaler</label><div class=\"sk-toggleable__content\"><pre>StandardScaler()</pre></div></div></div><div class=\"sk-item\"><div class=\"sk-estimator sk-toggleable\"><input class=\"sk-toggleable__control sk-hidden--visually\" id=\"920e80f8-5232-4a53-9f82-1b319772acf3\" type=\"checkbox\" ><label for=\"920e80f8-5232-4a53-9f82-1b319772acf3\" class=\"sk-toggleable__label sk-toggleable__label-arrow\">KNNImputer</label><div class=\"sk-toggleable__content\"><pre>KNNImputer()</pre></div></div></div></div></div></div></div></div></div></div><div class=\"sk-item sk-dashed-wrapped\"><div class=\"sk-label-container\"><div class=\"sk-label sk-toggleable\"><input class=\"sk-toggleable__control sk-hidden--visually\" id=\"aa796d91-da69-4c49-b360-b4cb810f8d87\" type=\"checkbox\" ><label for=\"aa796d91-da69-4c49-b360-b4cb810f8d87\" class=\"sk-toggleable__label sk-toggleable__label-arrow\">bag: TransformedTargetRegressor</label><div class=\"sk-toggleable__content\"><pre>TransformedTargetRegressor(regressor=BaggingRegressor(n_estimators=50,\n",
              "                                                      n_jobs=-1),\n",
              "                           transformer=QuantileTransformer(n_quantiles=300,\n",
              "                                                           output_distribution=&#x27;normal&#x27;))</pre></div></div></div><div class=\"sk-parallel\"><div class=\"sk-parallel-item\"><div class=\"sk-item\"><div class=\"sk-serial\"><div class=\"sk-item\"><div class=\"sk-estimator sk-toggleable\"><input class=\"sk-toggleable__control sk-hidden--visually\" id=\"602f8d5e-46f4-4b7d-bef2-15f86c26381b\" type=\"checkbox\" ><label for=\"602f8d5e-46f4-4b7d-bef2-15f86c26381b\" class=\"sk-toggleable__label sk-toggleable__label-arrow\">BaggingRegressor</label><div class=\"sk-toggleable__content\"><pre>BaggingRegressor(n_estimators=50, n_jobs=-1)</pre></div></div></div></div></div></div><div class=\"sk-parallel-item\"><div class=\"sk-item\"><div class=\"sk-serial\"><div class=\"sk-item\"><div class=\"sk-estimator sk-toggleable\"><input class=\"sk-toggleable__control sk-hidden--visually\" id=\"3ae5563f-e694-46b6-bc2a-8a499f26e1be\" type=\"checkbox\" ><label for=\"3ae5563f-e694-46b6-bc2a-8a499f26e1be\" class=\"sk-toggleable__label sk-toggleable__label-arrow\">QuantileTransformer</label><div class=\"sk-toggleable__content\"><pre>QuantileTransformer(n_quantiles=300, output_distribution=&#x27;normal&#x27;)</pre></div></div></div></div></div></div></div></div></div></div></div></div>"
            ]
          },
          "metadata": {},
          "execution_count": 356
        }
      ]
    },
    {
      "cell_type": "code",
      "source": [
        "# Modell elmentése pickle-el\n",
        "pickle.dump(model_final_pipe, open('../data/model_final_trained.pkl', 'wb'))"
      ],
      "metadata": {
        "id": "1kLoTW-NVZtI"
      },
      "execution_count": null,
      "outputs": []
    },
    {
      "cell_type": "code",
      "source": [
        "import numpy as np\n",
        "import pandas as pd\n",
        "from sklearn.model_selection import train_test_split\n",
        "from   sklearn.compose            import *\n",
        "from   sklearn.experimental       import enable_iterative_imputer\n",
        "from   sklearn.impute             import *\n",
        "from   sklearn.metrics            import balanced_accuracy_score # Evaluation metric 2.0 \n",
        "from   sklearn.pipeline           import Pipeline\n",
        "from   sklearn.preprocessing      import *\n",
        "from   sklearn.linear_model    import *\n",
        "from   sklearn.metrics         import mean_absolute_error\n",
        "from sklearn.base import BaseEstimator\n",
        "from   sklearn.tree import *\n",
        "from   sklearn.ensemble import *\n",
        "from sklearn.model_selection  import RandomizedSearchCV\n",
        "from sklearn.model_selection  import GridSearchCV\n",
        "from sklearn import set_config\n",
        "from sklearn.model_selection import cross_val_score"
      ],
      "metadata": {
        "id": "ZxGKqG6OWVKA"
      },
      "execution_count": null,
      "outputs": []
    },
    {
      "cell_type": "code",
      "source": [
        "X_train, X_test, y_train, y_test = train_test_split(X, y, test_size=0.2, shuffle=True)"
      ],
      "metadata": {
        "id": "bMq81FBlWaQb"
      },
      "execution_count": null,
      "outputs": []
    },
    {
      "cell_type": "code",
      "source": [
        "class DummyEstimator(BaseEstimator):\n",
        "    def fit(self): pass\n",
        "    def score(self): pass"
      ],
      "metadata": {
        "id": "nJmCM9LhWlsJ"
      },
      "execution_count": null,
      "outputs": []
    },
    {
      "cell_type": "code",
      "source": [
        "# \n",
        "n_est = [100, 150] # num of trees (base_estimators)\n",
        "max_features = [0.8, 1.0] # features in base_estimators\n",
        "search_space = [{'bag': [BaggingRegressor(n_jobs=-1)], # Actual Estimator\n",
        "                 'bag__n_estimators': n_est,\n",
        "                 'bag__max_features': max_features}]\n",
        "\n",
        "bag_final_pipe = Pipeline([('preprocessor', preprocessor),\n",
        "                ('bag', TransformedTargetRegressor(regressor=DummyEstimator(),\n",
        "                                                         transformer=QuantileTransformer(n_quantiles=300,\n",
        "                                                         output_distribution='normal')))])                \n",
        "\n",
        "bag_randcv = RandomizedSearchCV(estimator=bag_final_pipe, \n",
        "                                 param_distributions=search_space,\n",
        "                                 cv=5,\n",
        "                                 scoring=['neg_root_mean_squared_error', 'neg_mean_squared_error'],\n",
        "                                 n_jobs=-1,\n",
        "                                 verbose=1,\n",
        "                                 random_state=42,\n",
        "                                 refit='neg_root_mean_squared_error')"
      ],
      "metadata": {
        "id": "3-SJ5g264IqF"
      },
      "execution_count": null,
      "outputs": []
    },
    {
      "cell_type": "code",
      "source": [
        "# Modell fitelése\n",
        "bag_randcv.fit(X_train, y_train)"
      ],
      "metadata": {
        "colab": {
          "base_uri": "https://localhost:8080/",
          "height": 337
        },
        "id": "c0mXonMJ4O5N",
        "outputId": "7eb0f845-1b5f-43e0-979a-415ca402d4bb"
      },
      "execution_count": null,
      "outputs": [
        {
          "output_type": "stream",
          "name": "stderr",
          "text": [
            "/usr/local/lib/python3.7/dist-packages/sklearn/model_selection/_search.py:296: UserWarning: The total space of parameters 4 is smaller than n_iter=10. Running 4 iterations. For exhaustive searches, use GridSearchCV.\n",
            "  UserWarning,\n"
          ]
        },
        {
          "output_type": "stream",
          "name": "stdout",
          "text": [
            "Fitting 5 folds for each of 4 candidates, totalling 20 fits\n"
          ]
        },
        {
          "output_type": "execute_result",
          "data": {
            "text/plain": [
              "RandomizedSearchCV(cv=5,\n",
              "                   estimator=Pipeline(steps=[('preprocessor',\n",
              "                                              ColumnTransformer(transformers=[('categorical',\n",
              "                                                                               Pipeline(steps=[('ohe',\n",
              "                                                                                                OneHotEncoder(handle_unknown='ignore')),\n",
              "                                                                                               ('imputer',\n",
              "                                                                                                SimpleImputer(add_indicator=True,\n",
              "                                                                                                              strategy='most_frequent'))]),\n",
              "                                                                               ['Speechiness',\n",
              "                                                                                'Energy',\n",
              "                                                                                'Danceability',\n",
              "                                                                                'Year']),\n",
              "                                                                              ('continuous',\n",
              "                                                                               Pipeline(steps=[('SS',\n",
              "                                                                                                StandardScaler())...\n",
              "                                                                         transformer=QuantileTransformer(n_quantiles=300,\n",
              "                                                                                                         output_distribution='normal')))]),\n",
              "                   n_jobs=-1,\n",
              "                   param_distributions=[{'bag': [BaggingRegressor(max_features=0.8,\n",
              "                                                                  n_estimators=150,\n",
              "                                                                  n_jobs=-1)],\n",
              "                                         'bag__max_features': [0.8, 1.0],\n",
              "                                         'bag__n_estimators': [100, 150]}],\n",
              "                   random_state=42, refit='neg_root_mean_squared_error',\n",
              "                   scoring=['neg_root_mean_squared_error',\n",
              "                            'neg_mean_squared_error'],\n",
              "                   verbose=1)"
            ],
            "text/html": [
              "<style>#sk-f0fc9b9c-1a9f-462b-8c1b-2ea01e492e5d {color: black;background-color: white;}#sk-f0fc9b9c-1a9f-462b-8c1b-2ea01e492e5d pre{padding: 0;}#sk-f0fc9b9c-1a9f-462b-8c1b-2ea01e492e5d div.sk-toggleable {background-color: white;}#sk-f0fc9b9c-1a9f-462b-8c1b-2ea01e492e5d label.sk-toggleable__label {cursor: pointer;display: block;width: 100%;margin-bottom: 0;padding: 0.3em;box-sizing: border-box;text-align: center;}#sk-f0fc9b9c-1a9f-462b-8c1b-2ea01e492e5d label.sk-toggleable__label-arrow:before {content: \"▸\";float: left;margin-right: 0.25em;color: #696969;}#sk-f0fc9b9c-1a9f-462b-8c1b-2ea01e492e5d label.sk-toggleable__label-arrow:hover:before {color: black;}#sk-f0fc9b9c-1a9f-462b-8c1b-2ea01e492e5d div.sk-estimator:hover label.sk-toggleable__label-arrow:before {color: black;}#sk-f0fc9b9c-1a9f-462b-8c1b-2ea01e492e5d div.sk-toggleable__content {max-height: 0;max-width: 0;overflow: hidden;text-align: left;background-color: #f0f8ff;}#sk-f0fc9b9c-1a9f-462b-8c1b-2ea01e492e5d div.sk-toggleable__content pre {margin: 0.2em;color: black;border-radius: 0.25em;background-color: #f0f8ff;}#sk-f0fc9b9c-1a9f-462b-8c1b-2ea01e492e5d input.sk-toggleable__control:checked~div.sk-toggleable__content {max-height: 200px;max-width: 100%;overflow: auto;}#sk-f0fc9b9c-1a9f-462b-8c1b-2ea01e492e5d input.sk-toggleable__control:checked~label.sk-toggleable__label-arrow:before {content: \"▾\";}#sk-f0fc9b9c-1a9f-462b-8c1b-2ea01e492e5d div.sk-estimator input.sk-toggleable__control:checked~label.sk-toggleable__label {background-color: #d4ebff;}#sk-f0fc9b9c-1a9f-462b-8c1b-2ea01e492e5d div.sk-label input.sk-toggleable__control:checked~label.sk-toggleable__label {background-color: #d4ebff;}#sk-f0fc9b9c-1a9f-462b-8c1b-2ea01e492e5d input.sk-hidden--visually {border: 0;clip: rect(1px 1px 1px 1px);clip: rect(1px, 1px, 1px, 1px);height: 1px;margin: -1px;overflow: hidden;padding: 0;position: absolute;width: 1px;}#sk-f0fc9b9c-1a9f-462b-8c1b-2ea01e492e5d div.sk-estimator {font-family: monospace;background-color: #f0f8ff;border: 1px dotted black;border-radius: 0.25em;box-sizing: border-box;margin-bottom: 0.5em;}#sk-f0fc9b9c-1a9f-462b-8c1b-2ea01e492e5d div.sk-estimator:hover {background-color: #d4ebff;}#sk-f0fc9b9c-1a9f-462b-8c1b-2ea01e492e5d div.sk-parallel-item::after {content: \"\";width: 100%;border-bottom: 1px solid gray;flex-grow: 1;}#sk-f0fc9b9c-1a9f-462b-8c1b-2ea01e492e5d div.sk-label:hover label.sk-toggleable__label {background-color: #d4ebff;}#sk-f0fc9b9c-1a9f-462b-8c1b-2ea01e492e5d div.sk-serial::before {content: \"\";position: absolute;border-left: 1px solid gray;box-sizing: border-box;top: 2em;bottom: 0;left: 50%;}#sk-f0fc9b9c-1a9f-462b-8c1b-2ea01e492e5d div.sk-serial {display: flex;flex-direction: column;align-items: center;background-color: white;padding-right: 0.2em;padding-left: 0.2em;}#sk-f0fc9b9c-1a9f-462b-8c1b-2ea01e492e5d div.sk-item {z-index: 1;}#sk-f0fc9b9c-1a9f-462b-8c1b-2ea01e492e5d div.sk-parallel {display: flex;align-items: stretch;justify-content: center;background-color: white;}#sk-f0fc9b9c-1a9f-462b-8c1b-2ea01e492e5d div.sk-parallel::before {content: \"\";position: absolute;border-left: 1px solid gray;box-sizing: border-box;top: 2em;bottom: 0;left: 50%;}#sk-f0fc9b9c-1a9f-462b-8c1b-2ea01e492e5d div.sk-parallel-item {display: flex;flex-direction: column;position: relative;background-color: white;}#sk-f0fc9b9c-1a9f-462b-8c1b-2ea01e492e5d div.sk-parallel-item:first-child::after {align-self: flex-end;width: 50%;}#sk-f0fc9b9c-1a9f-462b-8c1b-2ea01e492e5d div.sk-parallel-item:last-child::after {align-self: flex-start;width: 50%;}#sk-f0fc9b9c-1a9f-462b-8c1b-2ea01e492e5d div.sk-parallel-item:only-child::after {width: 0;}#sk-f0fc9b9c-1a9f-462b-8c1b-2ea01e492e5d div.sk-dashed-wrapped {border: 1px dashed gray;margin: 0 0.4em 0.5em 0.4em;box-sizing: border-box;padding-bottom: 0.4em;background-color: white;position: relative;}#sk-f0fc9b9c-1a9f-462b-8c1b-2ea01e492e5d div.sk-label label {font-family: monospace;font-weight: bold;background-color: white;display: inline-block;line-height: 1.2em;}#sk-f0fc9b9c-1a9f-462b-8c1b-2ea01e492e5d div.sk-label-container {position: relative;z-index: 2;text-align: center;}#sk-f0fc9b9c-1a9f-462b-8c1b-2ea01e492e5d div.sk-container {/* jupyter's `normalize.less` sets `[hidden] { display: none; }` but bootstrap.min.css set `[hidden] { display: none !important; }` so we also need the `!important` here to be able to override the default hidden behavior on the sphinx rendered scikit-learn.org. See: https://github.com/scikit-learn/scikit-learn/issues/21755 */display: inline-block !important;position: relative;}#sk-f0fc9b9c-1a9f-462b-8c1b-2ea01e492e5d div.sk-text-repr-fallback {display: none;}</style><div id=\"sk-f0fc9b9c-1a9f-462b-8c1b-2ea01e492e5d\" class=\"sk-top-container\"><div class=\"sk-text-repr-fallback\"><pre>RandomizedSearchCV(cv=5,\n",
              "                   estimator=Pipeline(steps=[(&#x27;preprocessor&#x27;,\n",
              "                                              ColumnTransformer(transformers=[(&#x27;categorical&#x27;,\n",
              "                                                                               Pipeline(steps=[(&#x27;ohe&#x27;,\n",
              "                                                                                                OneHotEncoder(handle_unknown=&#x27;ignore&#x27;)),\n",
              "                                                                                               (&#x27;imputer&#x27;,\n",
              "                                                                                                SimpleImputer(add_indicator=True,\n",
              "                                                                                                              strategy=&#x27;most_frequent&#x27;))]),\n",
              "                                                                               [&#x27;Speechiness&#x27;,\n",
              "                                                                                &#x27;Energy&#x27;,\n",
              "                                                                                &#x27;Danceability&#x27;,\n",
              "                                                                                &#x27;Year&#x27;]),\n",
              "                                                                              (&#x27;continuous&#x27;,\n",
              "                                                                               Pipeline(steps=[(&#x27;SS&#x27;,\n",
              "                                                                                                StandardScaler())...\n",
              "                                                                         transformer=QuantileTransformer(n_quantiles=300,\n",
              "                                                                                                         output_distribution=&#x27;normal&#x27;)))]),\n",
              "                   n_jobs=-1,\n",
              "                   param_distributions=[{&#x27;bag&#x27;: [BaggingRegressor(max_features=0.8,\n",
              "                                                                  n_estimators=150,\n",
              "                                                                  n_jobs=-1)],\n",
              "                                         &#x27;bag__max_features&#x27;: [0.8, 1.0],\n",
              "                                         &#x27;bag__n_estimators&#x27;: [100, 150]}],\n",
              "                   random_state=42, refit=&#x27;neg_root_mean_squared_error&#x27;,\n",
              "                   scoring=[&#x27;neg_root_mean_squared_error&#x27;,\n",
              "                            &#x27;neg_mean_squared_error&#x27;],\n",
              "                   verbose=1)</pre><b>Please rerun this cell to show the HTML repr or trust the notebook.</b></div><div class=\"sk-container\" hidden><div class=\"sk-item sk-dashed-wrapped\"><div class=\"sk-label-container\"><div class=\"sk-label sk-toggleable\"><input class=\"sk-toggleable__control sk-hidden--visually\" id=\"f704c31e-6785-4f6a-9f9b-cd31207edb06\" type=\"checkbox\" ><label for=\"f704c31e-6785-4f6a-9f9b-cd31207edb06\" class=\"sk-toggleable__label sk-toggleable__label-arrow\">RandomizedSearchCV</label><div class=\"sk-toggleable__content\"><pre>RandomizedSearchCV(cv=5,\n",
              "                   estimator=Pipeline(steps=[(&#x27;preprocessor&#x27;,\n",
              "                                              ColumnTransformer(transformers=[(&#x27;categorical&#x27;,\n",
              "                                                                               Pipeline(steps=[(&#x27;ohe&#x27;,\n",
              "                                                                                                OneHotEncoder(handle_unknown=&#x27;ignore&#x27;)),\n",
              "                                                                                               (&#x27;imputer&#x27;,\n",
              "                                                                                                SimpleImputer(add_indicator=True,\n",
              "                                                                                                              strategy=&#x27;most_frequent&#x27;))]),\n",
              "                                                                               [&#x27;Speechiness&#x27;,\n",
              "                                                                                &#x27;Energy&#x27;,\n",
              "                                                                                &#x27;Danceability&#x27;,\n",
              "                                                                                &#x27;Year&#x27;]),\n",
              "                                                                              (&#x27;continuous&#x27;,\n",
              "                                                                               Pipeline(steps=[(&#x27;SS&#x27;,\n",
              "                                                                                                StandardScaler())...\n",
              "                                                                         transformer=QuantileTransformer(n_quantiles=300,\n",
              "                                                                                                         output_distribution=&#x27;normal&#x27;)))]),\n",
              "                   n_jobs=-1,\n",
              "                   param_distributions=[{&#x27;bag&#x27;: [BaggingRegressor(max_features=0.8,\n",
              "                                                                  n_estimators=150,\n",
              "                                                                  n_jobs=-1)],\n",
              "                                         &#x27;bag__max_features&#x27;: [0.8, 1.0],\n",
              "                                         &#x27;bag__n_estimators&#x27;: [100, 150]}],\n",
              "                   random_state=42, refit=&#x27;neg_root_mean_squared_error&#x27;,\n",
              "                   scoring=[&#x27;neg_root_mean_squared_error&#x27;,\n",
              "                            &#x27;neg_mean_squared_error&#x27;],\n",
              "                   verbose=1)</pre></div></div></div><div class=\"sk-parallel\"><div class=\"sk-parallel-item\"><div class=\"sk-item\"><div class=\"sk-serial\"><div class=\"sk-item\"><div class=\"sk-serial\"><div class=\"sk-item sk-dashed-wrapped\"><div class=\"sk-label-container\"><div class=\"sk-label sk-toggleable\"><input class=\"sk-toggleable__control sk-hidden--visually\" id=\"38192e88-c05a-422f-a60e-d4d5d24b4b27\" type=\"checkbox\" ><label for=\"38192e88-c05a-422f-a60e-d4d5d24b4b27\" class=\"sk-toggleable__label sk-toggleable__label-arrow\">preprocessor: ColumnTransformer</label><div class=\"sk-toggleable__content\"><pre>ColumnTransformer(transformers=[(&#x27;categorical&#x27;,\n",
              "                                 Pipeline(steps=[(&#x27;ohe&#x27;,\n",
              "                                                  OneHotEncoder(handle_unknown=&#x27;ignore&#x27;)),\n",
              "                                                 (&#x27;imputer&#x27;,\n",
              "                                                  SimpleImputer(add_indicator=True,\n",
              "                                                                strategy=&#x27;most_frequent&#x27;))]),\n",
              "                                 [&#x27;Speechiness&#x27;, &#x27;Energy&#x27;, &#x27;Danceability&#x27;,\n",
              "                                  &#x27;Year&#x27;]),\n",
              "                                (&#x27;continuous&#x27;,\n",
              "                                 Pipeline(steps=[(&#x27;SS&#x27;, StandardScaler()),\n",
              "                                                 (&#x27;KNN&#x27;, KNNImputer())]),\n",
              "                                 [&#x27;BPM&#x27;, &#x27;Loudness&#x27;, &#x27;Liveness&#x27;, &#x27;Valence&#x27;,\n",
              "                                  &#x27;Length&#x27;, &#x27;Acousticness&#x27;])])</pre></div></div></div><div class=\"sk-parallel\"><div class=\"sk-parallel-item\"><div class=\"sk-item\"><div class=\"sk-label-container\"><div class=\"sk-label sk-toggleable\"><input class=\"sk-toggleable__control sk-hidden--visually\" id=\"e4cd40d1-db50-4ea2-a6af-9523812ac66b\" type=\"checkbox\" ><label for=\"e4cd40d1-db50-4ea2-a6af-9523812ac66b\" class=\"sk-toggleable__label sk-toggleable__label-arrow\">categorical</label><div class=\"sk-toggleable__content\"><pre>[&#x27;Speechiness&#x27;, &#x27;Energy&#x27;, &#x27;Danceability&#x27;, &#x27;Year&#x27;]</pre></div></div></div><div class=\"sk-serial\"><div class=\"sk-item\"><div class=\"sk-serial\"><div class=\"sk-item\"><div class=\"sk-estimator sk-toggleable\"><input class=\"sk-toggleable__control sk-hidden--visually\" id=\"3ee8ed4d-1e40-4c41-9e2e-f3e53a66a10a\" type=\"checkbox\" ><label for=\"3ee8ed4d-1e40-4c41-9e2e-f3e53a66a10a\" class=\"sk-toggleable__label sk-toggleable__label-arrow\">OneHotEncoder</label><div class=\"sk-toggleable__content\"><pre>OneHotEncoder(handle_unknown=&#x27;ignore&#x27;)</pre></div></div></div><div class=\"sk-item\"><div class=\"sk-estimator sk-toggleable\"><input class=\"sk-toggleable__control sk-hidden--visually\" id=\"2ebd81b2-a83a-4d99-8025-e8976fd209aa\" type=\"checkbox\" ><label for=\"2ebd81b2-a83a-4d99-8025-e8976fd209aa\" class=\"sk-toggleable__label sk-toggleable__label-arrow\">SimpleImputer</label><div class=\"sk-toggleable__content\"><pre>SimpleImputer(add_indicator=True, strategy=&#x27;most_frequent&#x27;)</pre></div></div></div></div></div></div></div></div><div class=\"sk-parallel-item\"><div class=\"sk-item\"><div class=\"sk-label-container\"><div class=\"sk-label sk-toggleable\"><input class=\"sk-toggleable__control sk-hidden--visually\" id=\"e7c47ab9-b920-4aa3-a8f7-52ca8caae926\" type=\"checkbox\" ><label for=\"e7c47ab9-b920-4aa3-a8f7-52ca8caae926\" class=\"sk-toggleable__label sk-toggleable__label-arrow\">continuous</label><div class=\"sk-toggleable__content\"><pre>[&#x27;BPM&#x27;, &#x27;Loudness&#x27;, &#x27;Liveness&#x27;, &#x27;Valence&#x27;, &#x27;Length&#x27;, &#x27;Acousticness&#x27;]</pre></div></div></div><div class=\"sk-serial\"><div class=\"sk-item\"><div class=\"sk-serial\"><div class=\"sk-item\"><div class=\"sk-estimator sk-toggleable\"><input class=\"sk-toggleable__control sk-hidden--visually\" id=\"30dfcbc5-af45-4a8d-93a6-26e16f393ba2\" type=\"checkbox\" ><label for=\"30dfcbc5-af45-4a8d-93a6-26e16f393ba2\" class=\"sk-toggleable__label sk-toggleable__label-arrow\">StandardScaler</label><div class=\"sk-toggleable__content\"><pre>StandardScaler()</pre></div></div></div><div class=\"sk-item\"><div class=\"sk-estimator sk-toggleable\"><input class=\"sk-toggleable__control sk-hidden--visually\" id=\"ab7fe0fd-ba09-4a17-b56d-a8165e3cdddb\" type=\"checkbox\" ><label for=\"ab7fe0fd-ba09-4a17-b56d-a8165e3cdddb\" class=\"sk-toggleable__label sk-toggleable__label-arrow\">KNNImputer</label><div class=\"sk-toggleable__content\"><pre>KNNImputer()</pre></div></div></div></div></div></div></div></div></div></div><div class=\"sk-item sk-dashed-wrapped\"><div class=\"sk-label-container\"><div class=\"sk-label sk-toggleable\"><input class=\"sk-toggleable__control sk-hidden--visually\" id=\"c6e7ee9e-bbfc-4b0f-8f82-00e5a3bffda1\" type=\"checkbox\" ><label for=\"c6e7ee9e-bbfc-4b0f-8f82-00e5a3bffda1\" class=\"sk-toggleable__label sk-toggleable__label-arrow\">bag: TransformedTargetRegressor</label><div class=\"sk-toggleable__content\"><pre>TransformedTargetRegressor(regressor=DummyEstimator(),\n",
              "                           transformer=QuantileTransformer(n_quantiles=300,\n",
              "                                                           output_distribution=&#x27;normal&#x27;))</pre></div></div></div><div class=\"sk-parallel\"><div class=\"sk-parallel-item\"><div class=\"sk-item\"><div class=\"sk-serial\"><div class=\"sk-item\"><div class=\"sk-estimator sk-toggleable\"><input class=\"sk-toggleable__control sk-hidden--visually\" id=\"00e2bf53-b2a2-4696-983b-e45e1149ee4d\" type=\"checkbox\" ><label for=\"00e2bf53-b2a2-4696-983b-e45e1149ee4d\" class=\"sk-toggleable__label sk-toggleable__label-arrow\">DummyEstimator</label><div class=\"sk-toggleable__content\"><pre>DummyEstimator()</pre></div></div></div></div></div></div><div class=\"sk-parallel-item\"><div class=\"sk-item\"><div class=\"sk-serial\"><div class=\"sk-item\"><div class=\"sk-estimator sk-toggleable\"><input class=\"sk-toggleable__control sk-hidden--visually\" id=\"f0d669de-370e-4cde-8a49-ffd66a02d103\" type=\"checkbox\" ><label for=\"f0d669de-370e-4cde-8a49-ffd66a02d103\" class=\"sk-toggleable__label sk-toggleable__label-arrow\">QuantileTransformer</label><div class=\"sk-toggleable__content\"><pre>QuantileTransformer(n_quantiles=300, output_distribution=&#x27;normal&#x27;)</pre></div></div></div></div></div></div></div></div></div></div></div></div></div></div></div></div></div>"
            ]
          },
          "metadata": {},
          "execution_count": 362
        }
      ]
    },
    {
      "cell_type": "code",
      "source": [
        "print(f'Bagging Regressor: {round(bag_randcv.best_score_, 3)}')"
      ],
      "metadata": {
        "colab": {
          "base_uri": "https://localhost:8080/"
        },
        "id": "DS2QHSIy5ddF",
        "outputId": "6ec9c655-78f6-494f-d41d-75c77d91ce7b"
      },
      "execution_count": null,
      "outputs": [
        {
          "output_type": "stream",
          "name": "stdout",
          "text": [
            "Bagging Regressor: -13.895\n"
          ]
        }
      ]
    },
    {
      "cell_type": "code",
      "source": [
        "# Milyen paramétrekkel érhető el a legpontosabb modell\n",
        "bag_randcv.best_params_"
      ],
      "metadata": {
        "colab": {
          "base_uri": "https://localhost:8080/"
        },
        "id": "XDGpuUaN5h1d",
        "outputId": "4f987381-1144-40b2-b810-88ac0a948edc"
      },
      "execution_count": null,
      "outputs": [
        {
          "output_type": "execute_result",
          "data": {
            "text/plain": [
              "{'bag__n_estimators': 150,\n",
              " 'bag__max_features': 0.8,\n",
              " 'bag': BaggingRegressor(max_features=0.8, n_estimators=150, n_jobs=-1)}"
            ]
          },
          "metadata": {},
          "execution_count": 365
        }
      ]
    },
    {
      "cell_type": "code",
      "source": [
        "model_final = BaggingRegressor(n_estimators=100, max_features = 0.8, n_jobs=-1)\n",
        "model_final_pipe = Pipeline([('preprocessor', preprocessor),\n",
        "                ('bag', TransformedTargetRegressor(regressor=model_final,\n",
        "                                                         transformer=QuantileTransformer(n_quantiles=300,\n",
        "                                                         output_distribution='normal')))])\n",
        "model_final_pipe.fit(X_train, y_train)"
      ],
      "metadata": {
        "colab": {
          "base_uri": "https://localhost:8080/",
          "height": 263
        },
        "id": "HR7AbHBG5n_e",
        "outputId": "a4804d76-ecb4-40f5-c014-1b1047ee1445"
      },
      "execution_count": null,
      "outputs": [
        {
          "output_type": "execute_result",
          "data": {
            "text/plain": [
              "Pipeline(steps=[('preprocessor',\n",
              "                 ColumnTransformer(transformers=[('categorical',\n",
              "                                                  Pipeline(steps=[('ohe',\n",
              "                                                                   OneHotEncoder(handle_unknown='ignore')),\n",
              "                                                                  ('imputer',\n",
              "                                                                   SimpleImputer(add_indicator=True,\n",
              "                                                                                 strategy='most_frequent'))]),\n",
              "                                                  ['Speechiness', 'Energy',\n",
              "                                                   'Danceability', 'Year']),\n",
              "                                                 ('continuous',\n",
              "                                                  Pipeline(steps=[('SS',\n",
              "                                                                   StandardScaler()),\n",
              "                                                                  ('KNN',\n",
              "                                                                   KNNImputer())]),\n",
              "                                                  ['BPM', 'Loudness',\n",
              "                                                   'Liveness', 'Valence',\n",
              "                                                   'Length',\n",
              "                                                   'Acousticness'])])),\n",
              "                ('bag',\n",
              "                 TransformedTargetRegressor(regressor=BaggingRegressor(max_features=0.8,\n",
              "                                                                       n_estimators=100,\n",
              "                                                                       n_jobs=-1),\n",
              "                                            transformer=QuantileTransformer(n_quantiles=300,\n",
              "                                                                            output_distribution='normal')))])"
            ],
            "text/html": [
              "<style>#sk-47fbf545-7d54-470e-a6c8-e7635176d7fc {color: black;background-color: white;}#sk-47fbf545-7d54-470e-a6c8-e7635176d7fc pre{padding: 0;}#sk-47fbf545-7d54-470e-a6c8-e7635176d7fc div.sk-toggleable {background-color: white;}#sk-47fbf545-7d54-470e-a6c8-e7635176d7fc label.sk-toggleable__label {cursor: pointer;display: block;width: 100%;margin-bottom: 0;padding: 0.3em;box-sizing: border-box;text-align: center;}#sk-47fbf545-7d54-470e-a6c8-e7635176d7fc label.sk-toggleable__label-arrow:before {content: \"▸\";float: left;margin-right: 0.25em;color: #696969;}#sk-47fbf545-7d54-470e-a6c8-e7635176d7fc label.sk-toggleable__label-arrow:hover:before {color: black;}#sk-47fbf545-7d54-470e-a6c8-e7635176d7fc div.sk-estimator:hover label.sk-toggleable__label-arrow:before {color: black;}#sk-47fbf545-7d54-470e-a6c8-e7635176d7fc div.sk-toggleable__content {max-height: 0;max-width: 0;overflow: hidden;text-align: left;background-color: #f0f8ff;}#sk-47fbf545-7d54-470e-a6c8-e7635176d7fc div.sk-toggleable__content pre {margin: 0.2em;color: black;border-radius: 0.25em;background-color: #f0f8ff;}#sk-47fbf545-7d54-470e-a6c8-e7635176d7fc input.sk-toggleable__control:checked~div.sk-toggleable__content {max-height: 200px;max-width: 100%;overflow: auto;}#sk-47fbf545-7d54-470e-a6c8-e7635176d7fc input.sk-toggleable__control:checked~label.sk-toggleable__label-arrow:before {content: \"▾\";}#sk-47fbf545-7d54-470e-a6c8-e7635176d7fc div.sk-estimator input.sk-toggleable__control:checked~label.sk-toggleable__label {background-color: #d4ebff;}#sk-47fbf545-7d54-470e-a6c8-e7635176d7fc div.sk-label input.sk-toggleable__control:checked~label.sk-toggleable__label {background-color: #d4ebff;}#sk-47fbf545-7d54-470e-a6c8-e7635176d7fc input.sk-hidden--visually {border: 0;clip: rect(1px 1px 1px 1px);clip: rect(1px, 1px, 1px, 1px);height: 1px;margin: -1px;overflow: hidden;padding: 0;position: absolute;width: 1px;}#sk-47fbf545-7d54-470e-a6c8-e7635176d7fc div.sk-estimator {font-family: monospace;background-color: #f0f8ff;border: 1px dotted black;border-radius: 0.25em;box-sizing: border-box;margin-bottom: 0.5em;}#sk-47fbf545-7d54-470e-a6c8-e7635176d7fc div.sk-estimator:hover {background-color: #d4ebff;}#sk-47fbf545-7d54-470e-a6c8-e7635176d7fc div.sk-parallel-item::after {content: \"\";width: 100%;border-bottom: 1px solid gray;flex-grow: 1;}#sk-47fbf545-7d54-470e-a6c8-e7635176d7fc div.sk-label:hover label.sk-toggleable__label {background-color: #d4ebff;}#sk-47fbf545-7d54-470e-a6c8-e7635176d7fc div.sk-serial::before {content: \"\";position: absolute;border-left: 1px solid gray;box-sizing: border-box;top: 2em;bottom: 0;left: 50%;}#sk-47fbf545-7d54-470e-a6c8-e7635176d7fc div.sk-serial {display: flex;flex-direction: column;align-items: center;background-color: white;padding-right: 0.2em;padding-left: 0.2em;}#sk-47fbf545-7d54-470e-a6c8-e7635176d7fc div.sk-item {z-index: 1;}#sk-47fbf545-7d54-470e-a6c8-e7635176d7fc div.sk-parallel {display: flex;align-items: stretch;justify-content: center;background-color: white;}#sk-47fbf545-7d54-470e-a6c8-e7635176d7fc div.sk-parallel::before {content: \"\";position: absolute;border-left: 1px solid gray;box-sizing: border-box;top: 2em;bottom: 0;left: 50%;}#sk-47fbf545-7d54-470e-a6c8-e7635176d7fc div.sk-parallel-item {display: flex;flex-direction: column;position: relative;background-color: white;}#sk-47fbf545-7d54-470e-a6c8-e7635176d7fc div.sk-parallel-item:first-child::after {align-self: flex-end;width: 50%;}#sk-47fbf545-7d54-470e-a6c8-e7635176d7fc div.sk-parallel-item:last-child::after {align-self: flex-start;width: 50%;}#sk-47fbf545-7d54-470e-a6c8-e7635176d7fc div.sk-parallel-item:only-child::after {width: 0;}#sk-47fbf545-7d54-470e-a6c8-e7635176d7fc div.sk-dashed-wrapped {border: 1px dashed gray;margin: 0 0.4em 0.5em 0.4em;box-sizing: border-box;padding-bottom: 0.4em;background-color: white;position: relative;}#sk-47fbf545-7d54-470e-a6c8-e7635176d7fc div.sk-label label {font-family: monospace;font-weight: bold;background-color: white;display: inline-block;line-height: 1.2em;}#sk-47fbf545-7d54-470e-a6c8-e7635176d7fc div.sk-label-container {position: relative;z-index: 2;text-align: center;}#sk-47fbf545-7d54-470e-a6c8-e7635176d7fc div.sk-container {/* jupyter's `normalize.less` sets `[hidden] { display: none; }` but bootstrap.min.css set `[hidden] { display: none !important; }` so we also need the `!important` here to be able to override the default hidden behavior on the sphinx rendered scikit-learn.org. See: https://github.com/scikit-learn/scikit-learn/issues/21755 */display: inline-block !important;position: relative;}#sk-47fbf545-7d54-470e-a6c8-e7635176d7fc div.sk-text-repr-fallback {display: none;}</style><div id=\"sk-47fbf545-7d54-470e-a6c8-e7635176d7fc\" class=\"sk-top-container\"><div class=\"sk-text-repr-fallback\"><pre>Pipeline(steps=[(&#x27;preprocessor&#x27;,\n",
              "                 ColumnTransformer(transformers=[(&#x27;categorical&#x27;,\n",
              "                                                  Pipeline(steps=[(&#x27;ohe&#x27;,\n",
              "                                                                   OneHotEncoder(handle_unknown=&#x27;ignore&#x27;)),\n",
              "                                                                  (&#x27;imputer&#x27;,\n",
              "                                                                   SimpleImputer(add_indicator=True,\n",
              "                                                                                 strategy=&#x27;most_frequent&#x27;))]),\n",
              "                                                  [&#x27;Speechiness&#x27;, &#x27;Energy&#x27;,\n",
              "                                                   &#x27;Danceability&#x27;, &#x27;Year&#x27;]),\n",
              "                                                 (&#x27;continuous&#x27;,\n",
              "                                                  Pipeline(steps=[(&#x27;SS&#x27;,\n",
              "                                                                   StandardScaler()),\n",
              "                                                                  (&#x27;KNN&#x27;,\n",
              "                                                                   KNNImputer())]),\n",
              "                                                  [&#x27;BPM&#x27;, &#x27;Loudness&#x27;,\n",
              "                                                   &#x27;Liveness&#x27;, &#x27;Valence&#x27;,\n",
              "                                                   &#x27;Length&#x27;,\n",
              "                                                   &#x27;Acousticness&#x27;])])),\n",
              "                (&#x27;bag&#x27;,\n",
              "                 TransformedTargetRegressor(regressor=BaggingRegressor(max_features=0.8,\n",
              "                                                                       n_estimators=100,\n",
              "                                                                       n_jobs=-1),\n",
              "                                            transformer=QuantileTransformer(n_quantiles=300,\n",
              "                                                                            output_distribution=&#x27;normal&#x27;)))])</pre><b>Please rerun this cell to show the HTML repr or trust the notebook.</b></div><div class=\"sk-container\" hidden><div class=\"sk-item sk-dashed-wrapped\"><div class=\"sk-label-container\"><div class=\"sk-label sk-toggleable\"><input class=\"sk-toggleable__control sk-hidden--visually\" id=\"945c3b1b-2bf3-422c-aa93-a626c2e01dd9\" type=\"checkbox\" ><label for=\"945c3b1b-2bf3-422c-aa93-a626c2e01dd9\" class=\"sk-toggleable__label sk-toggleable__label-arrow\">Pipeline</label><div class=\"sk-toggleable__content\"><pre>Pipeline(steps=[(&#x27;preprocessor&#x27;,\n",
              "                 ColumnTransformer(transformers=[(&#x27;categorical&#x27;,\n",
              "                                                  Pipeline(steps=[(&#x27;ohe&#x27;,\n",
              "                                                                   OneHotEncoder(handle_unknown=&#x27;ignore&#x27;)),\n",
              "                                                                  (&#x27;imputer&#x27;,\n",
              "                                                                   SimpleImputer(add_indicator=True,\n",
              "                                                                                 strategy=&#x27;most_frequent&#x27;))]),\n",
              "                                                  [&#x27;Speechiness&#x27;, &#x27;Energy&#x27;,\n",
              "                                                   &#x27;Danceability&#x27;, &#x27;Year&#x27;]),\n",
              "                                                 (&#x27;continuous&#x27;,\n",
              "                                                  Pipeline(steps=[(&#x27;SS&#x27;,\n",
              "                                                                   StandardScaler()),\n",
              "                                                                  (&#x27;KNN&#x27;,\n",
              "                                                                   KNNImputer())]),\n",
              "                                                  [&#x27;BPM&#x27;, &#x27;Loudness&#x27;,\n",
              "                                                   &#x27;Liveness&#x27;, &#x27;Valence&#x27;,\n",
              "                                                   &#x27;Length&#x27;,\n",
              "                                                   &#x27;Acousticness&#x27;])])),\n",
              "                (&#x27;bag&#x27;,\n",
              "                 TransformedTargetRegressor(regressor=BaggingRegressor(max_features=0.8,\n",
              "                                                                       n_estimators=100,\n",
              "                                                                       n_jobs=-1),\n",
              "                                            transformer=QuantileTransformer(n_quantiles=300,\n",
              "                                                                            output_distribution=&#x27;normal&#x27;)))])</pre></div></div></div><div class=\"sk-serial\"><div class=\"sk-item sk-dashed-wrapped\"><div class=\"sk-label-container\"><div class=\"sk-label sk-toggleable\"><input class=\"sk-toggleable__control sk-hidden--visually\" id=\"24fefcfd-0d3a-405a-a9af-a42cdd4843f8\" type=\"checkbox\" ><label for=\"24fefcfd-0d3a-405a-a9af-a42cdd4843f8\" class=\"sk-toggleable__label sk-toggleable__label-arrow\">preprocessor: ColumnTransformer</label><div class=\"sk-toggleable__content\"><pre>ColumnTransformer(transformers=[(&#x27;categorical&#x27;,\n",
              "                                 Pipeline(steps=[(&#x27;ohe&#x27;,\n",
              "                                                  OneHotEncoder(handle_unknown=&#x27;ignore&#x27;)),\n",
              "                                                 (&#x27;imputer&#x27;,\n",
              "                                                  SimpleImputer(add_indicator=True,\n",
              "                                                                strategy=&#x27;most_frequent&#x27;))]),\n",
              "                                 [&#x27;Speechiness&#x27;, &#x27;Energy&#x27;, &#x27;Danceability&#x27;,\n",
              "                                  &#x27;Year&#x27;]),\n",
              "                                (&#x27;continuous&#x27;,\n",
              "                                 Pipeline(steps=[(&#x27;SS&#x27;, StandardScaler()),\n",
              "                                                 (&#x27;KNN&#x27;, KNNImputer())]),\n",
              "                                 [&#x27;BPM&#x27;, &#x27;Loudness&#x27;, &#x27;Liveness&#x27;, &#x27;Valence&#x27;,\n",
              "                                  &#x27;Length&#x27;, &#x27;Acousticness&#x27;])])</pre></div></div></div><div class=\"sk-parallel\"><div class=\"sk-parallel-item\"><div class=\"sk-item\"><div class=\"sk-label-container\"><div class=\"sk-label sk-toggleable\"><input class=\"sk-toggleable__control sk-hidden--visually\" id=\"c4cee23c-f766-49c8-b6ae-62198b6f2a26\" type=\"checkbox\" ><label for=\"c4cee23c-f766-49c8-b6ae-62198b6f2a26\" class=\"sk-toggleable__label sk-toggleable__label-arrow\">categorical</label><div class=\"sk-toggleable__content\"><pre>[&#x27;Speechiness&#x27;, &#x27;Energy&#x27;, &#x27;Danceability&#x27;, &#x27;Year&#x27;]</pre></div></div></div><div class=\"sk-serial\"><div class=\"sk-item\"><div class=\"sk-serial\"><div class=\"sk-item\"><div class=\"sk-estimator sk-toggleable\"><input class=\"sk-toggleable__control sk-hidden--visually\" id=\"55d5a4ce-631a-4583-b1f7-0cc56d66a64c\" type=\"checkbox\" ><label for=\"55d5a4ce-631a-4583-b1f7-0cc56d66a64c\" class=\"sk-toggleable__label sk-toggleable__label-arrow\">OneHotEncoder</label><div class=\"sk-toggleable__content\"><pre>OneHotEncoder(handle_unknown=&#x27;ignore&#x27;)</pre></div></div></div><div class=\"sk-item\"><div class=\"sk-estimator sk-toggleable\"><input class=\"sk-toggleable__control sk-hidden--visually\" id=\"182aa9f7-44cf-4a8c-8ef8-fe7820e64b15\" type=\"checkbox\" ><label for=\"182aa9f7-44cf-4a8c-8ef8-fe7820e64b15\" class=\"sk-toggleable__label sk-toggleable__label-arrow\">SimpleImputer</label><div class=\"sk-toggleable__content\"><pre>SimpleImputer(add_indicator=True, strategy=&#x27;most_frequent&#x27;)</pre></div></div></div></div></div></div></div></div><div class=\"sk-parallel-item\"><div class=\"sk-item\"><div class=\"sk-label-container\"><div class=\"sk-label sk-toggleable\"><input class=\"sk-toggleable__control sk-hidden--visually\" id=\"e26efee8-c6b5-4bcc-8570-56bdc5ef49ad\" type=\"checkbox\" ><label for=\"e26efee8-c6b5-4bcc-8570-56bdc5ef49ad\" class=\"sk-toggleable__label sk-toggleable__label-arrow\">continuous</label><div class=\"sk-toggleable__content\"><pre>[&#x27;BPM&#x27;, &#x27;Loudness&#x27;, &#x27;Liveness&#x27;, &#x27;Valence&#x27;, &#x27;Length&#x27;, &#x27;Acousticness&#x27;]</pre></div></div></div><div class=\"sk-serial\"><div class=\"sk-item\"><div class=\"sk-serial\"><div class=\"sk-item\"><div class=\"sk-estimator sk-toggleable\"><input class=\"sk-toggleable__control sk-hidden--visually\" id=\"28435b18-c94e-4a20-9022-9436154615f6\" type=\"checkbox\" ><label for=\"28435b18-c94e-4a20-9022-9436154615f6\" class=\"sk-toggleable__label sk-toggleable__label-arrow\">StandardScaler</label><div class=\"sk-toggleable__content\"><pre>StandardScaler()</pre></div></div></div><div class=\"sk-item\"><div class=\"sk-estimator sk-toggleable\"><input class=\"sk-toggleable__control sk-hidden--visually\" id=\"3360e3da-4fa7-447b-8b6e-396ab8347dcd\" type=\"checkbox\" ><label for=\"3360e3da-4fa7-447b-8b6e-396ab8347dcd\" class=\"sk-toggleable__label sk-toggleable__label-arrow\">KNNImputer</label><div class=\"sk-toggleable__content\"><pre>KNNImputer()</pre></div></div></div></div></div></div></div></div></div></div><div class=\"sk-item sk-dashed-wrapped\"><div class=\"sk-label-container\"><div class=\"sk-label sk-toggleable\"><input class=\"sk-toggleable__control sk-hidden--visually\" id=\"35d2fdaf-fe7a-4e5b-9f78-8f94be16802f\" type=\"checkbox\" ><label for=\"35d2fdaf-fe7a-4e5b-9f78-8f94be16802f\" class=\"sk-toggleable__label sk-toggleable__label-arrow\">bag: TransformedTargetRegressor</label><div class=\"sk-toggleable__content\"><pre>TransformedTargetRegressor(regressor=BaggingRegressor(max_features=0.8,\n",
              "                                                      n_estimators=100,\n",
              "                                                      n_jobs=-1),\n",
              "                           transformer=QuantileTransformer(n_quantiles=300,\n",
              "                                                           output_distribution=&#x27;normal&#x27;))</pre></div></div></div><div class=\"sk-parallel\"><div class=\"sk-parallel-item\"><div class=\"sk-item\"><div class=\"sk-serial\"><div class=\"sk-item\"><div class=\"sk-estimator sk-toggleable\"><input class=\"sk-toggleable__control sk-hidden--visually\" id=\"10a17386-33ff-47e4-bd94-d7a449adba8c\" type=\"checkbox\" ><label for=\"10a17386-33ff-47e4-bd94-d7a449adba8c\" class=\"sk-toggleable__label sk-toggleable__label-arrow\">BaggingRegressor</label><div class=\"sk-toggleable__content\"><pre>BaggingRegressor(max_features=0.8, n_estimators=100, n_jobs=-1)</pre></div></div></div></div></div></div><div class=\"sk-parallel-item\"><div class=\"sk-item\"><div class=\"sk-serial\"><div class=\"sk-item\"><div class=\"sk-estimator sk-toggleable\"><input class=\"sk-toggleable__control sk-hidden--visually\" id=\"36a1ac05-762a-4ca5-9d17-7010851c5470\" type=\"checkbox\" ><label for=\"36a1ac05-762a-4ca5-9d17-7010851c5470\" class=\"sk-toggleable__label sk-toggleable__label-arrow\">QuantileTransformer</label><div class=\"sk-toggleable__content\"><pre>QuantileTransformer(n_quantiles=300, output_distribution=&#x27;normal&#x27;)</pre></div></div></div></div></div></div></div></div></div></div></div></div>"
            ]
          },
          "metadata": {},
          "execution_count": 366
        }
      ]
    },
    {
      "cell_type": "code",
      "source": [
        "# Itt az abszolút hiba középértékét (MAE) használjuk, mert ezt szeretnénk a dal népszerűségének abszolút hibájával korrelálni.\n",
        "y_pred = model_final_pipe.predict(X_test)\n",
        "mae = mean_absolute_error(y_test, y_pred)\n",
        "print(f\"MAE: {mae:.6f}\")"
      ],
      "metadata": {
        "colab": {
          "base_uri": "https://localhost:8080/"
        },
        "id": "yk8C_CkC5uR9",
        "outputId": "aedeed45-e6fd-43e1-99db-daf899a96081"
      },
      "execution_count": null,
      "outputs": [
        {
          "output_type": "stream",
          "name": "stdout",
          "text": [
            "MAE: 11.377834\n"
          ]
        }
      ]
    },
    {
      "cell_type": "code",
      "source": [
        "# Jelenleg nem máködik...\n",
        "# Grafikus report generálása html fájlba\n",
        "# Futtatás előtt:\n",
        "# ! pip install https://github.com/pandas-profiling/pandas-profiling/archive/master.zip\n",
        "#profile = ProfileReport(df, title=\"Spotify Song Popularity\", html={'style':{'full_width':True}})\n",
        "# Ezt használtam a profiling feature használásához: https://python.plainenglish.io/how-to-use-pandas-profiling-on-google-colab-e34f34ff1c9f"
      ],
      "metadata": {
        "id": "NNHGGNIdmjHE"
      },
      "execution_count": null,
      "outputs": []
    },
    {
      "cell_type": "code",
      "source": [
        "#profile"
      ],
      "metadata": {
        "id": "BKaBo2z-1XNE"
      },
      "execution_count": null,
      "outputs": []
    },
    {
      "cell_type": "code",
      "source": [
        "# Report elmentése fájlba\n",
        "#profile.to_file(\"../Spotify_Song_Popularity.html\")"
      ],
      "metadata": {
        "id": "DK15V5Rz19Zx"
      },
      "execution_count": null,
      "outputs": []
    },
    {
      "cell_type": "code",
      "source": [
        "import nltk\n",
        "import sklearn\n",
        "\n",
        "print('The nltk version is {}.'.format(nltk.__version__))\n",
        "print('The scikit-learn version is {}.'.format(sklearn.__version__))"
      ],
      "metadata": {
        "colab": {
          "base_uri": "https://localhost:8080/"
        },
        "id": "i2Z2qY6_FA9d",
        "outputId": "4e93b526-3b57-4181-d2f4-3cee722a9714"
      },
      "execution_count": null,
      "outputs": [
        {
          "output_type": "stream",
          "name": "stdout",
          "text": [
            "The nltk version is 3.7.\n",
            "The scikit-learn version is 1.0.2.\n"
          ]
        }
      ]
    }
  ]
}